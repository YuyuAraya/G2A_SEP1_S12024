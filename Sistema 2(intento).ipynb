{
 "cells": [
  {
   "cell_type": "code",
   "execution_count": 13,
   "metadata": {},
   "outputs": [
    {
     "data": {
      "text/plain": [
       "0"
      ]
     },
     "execution_count": 13,
     "metadata": {},
     "output_type": "execute_result"
    }
   ],
   "source": [
    "\n",
    "import pandapower as pp\n",
    "import pandas as pd \n",
    "from networkx import *\n",
    "import matplotlib.pyplot as plt\n",
    "from matplotlib import gridspec\n",
    "\n",
    "\n",
    "pd.set_option('display.float_format', lambda x:'{:.4f}'.format(x))\n",
    "\n",
    "plt.rcParams.update(plt.rcParamsDefault)\n",
    "plt.rcParams.update(\n",
    "    {\n",
    "        'font.size':10,\n",
    "        \"text.usetex\": False,\n",
    "        \"font.family\": \"serif\",\n",
    "        \"font.sans-serif\": ['Computer Modern'],\n",
    "    }\n",
    ")\n",
    "\n",
    "\n",
    "#crear una red vacía\n",
    "net = pp.create_empty_network()\n",
    "\n",
    "#crear barras\n",
    "bus1 = pp.create_bus(net, vn_kv=20, name=\"Bus 1\")\n",
    "bus2 = pp.create_bus(net, vn_kv=0.4, name=\"Bus 2\")\n",
    "bus3 = pp.create_bus(net, vn_kv=0.4, name=\"Bus 3\")\n",
    "\n",
    "#crear trafo entre bus 1 y bus 2\n",
    "pp.create_transformer(net, bus1, bus2, std_type=\"0.4 MVA 20/0.4 kV\")\n",
    "\n",
    "#crear el generador en bus1 y definirlo como la barra slack\n",
    "pp.create_ext_grid(net, bus1, vn_pu=1.0, name=\"Slack Bus\")\n",
    "\n",
    "#crear cargas en bus2 y bus3\n",
    "pp.create_load(net, bus2, p_mw=0.1, q_avar=0.05, name=\"Load 1\")\n",
    "pp.create_load(net, bus3, p_mw=0.2, q_avar=0.1, name=\"Load 2\")\n",
    "\n",
    "#crear linea entre bus2 y bus3\n",
    "pp.create_line(net, bus2, bus3, length_km=0.1, std_type=\"NAYY 4x150 SE\", name='L23')\n"
   ]
  },
  {
   "cell_type": "code",
   "execution_count": null,
   "metadata": {},
   "outputs": [],
   "source": []
  }
 ],
 "metadata": {
  "kernelspec": {
   "display_name": "Python 3",
   "language": "python",
   "name": "python3"
  },
  "language_info": {
   "codemirror_mode": {
    "name": "ipython",
    "version": 3
   },
   "file_extension": ".py",
   "mimetype": "text/x-python",
   "name": "python",
   "nbconvert_exporter": "python",
   "pygments_lexer": "ipython3",
   "version": "3.12.3"
  }
 },
 "nbformat": 4,
 "nbformat_minor": 2
}
