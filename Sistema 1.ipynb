{
 "cells": [
  {
   "cell_type": "code",
   "execution_count": 9,
   "metadata": {},
   "outputs": [
    {
     "name": "stdout",
     "output_type": "stream",
     "text": [
      "   vm_pu  va_degree       p_mw    q_mvar\n",
      "0 1.0000     0.0000 -1150.9228 -294.6346\n",
      "1 0.8346   -16.5640  1080.0000  523.0679\n",
      "   p_from_mw  q_from_mvar    p_to_mw  q_to_mvar   pl_mw   ql_mvar  i_from_ka  \\\n",
      "0  1150.9228     294.6346 -1080.0000  -523.0679 70.9228 -228.4333     1.3718   \n",
      "\n",
      "   i_to_ka   i_ka  vm_from_pu  va_from_degree  vm_to_pu  va_to_degree  \\\n",
      "0   1.6603 1.6603      1.0000          0.0000    0.8346      -16.5640   \n",
      "\n",
      "   loading_percent  \n",
      "0         166.0297  \n",
      "       p_mw   q_mvar\n",
      "0 1080.0000 523.0679\n"
     ]
    }
   ],
   "source": [
    "import numpy as np\n",
    "import pandas as pd \n",
    "import networkx as nx\n",
    "import matplotlib.pyplot as plt\n",
    "import pandapower as pp \n",
    "import math\n",
    "\n",
    "\n",
    "import matplotlib.gridspec as gridscpec\n",
    "\n",
    "\n",
    "pd.set_option('display.float_format', lambda x:'{:.4f}'.format(x))\n",
    "\n",
    "plt.rcParams.update(plt.rcParamsDefault)\n",
    "plt.rcParams.update(\n",
    "    {\n",
    "        'font.size':10,\n",
    "        \"text.usetex\": False,\n",
    "        \"font.family\": \"serif\",\n",
    "        \"font.sans-serif\": ['Computer Modern'],\n",
    "    }\n",
    ")\n",
    "\n",
    "\n",
    "I_max_kA = 1 \n",
    "f = 50 \n",
    "\n",
    "net = pp.create_empty_network()\n",
    "bus1 = pp.create_bus(net, vn_kv=500, name=\"Barra 1\")\n",
    "bus2 = pp.create_bus(net, vn_kv=500, name=\"Barra 2\")\n",
    "\n",
    "pp.create_line_from_parameters(net ,from_bus=bus1, to_bus=bus2, length_km=500, r_ohm_per_km=0.02, x_ohm_per_km=0.115, c_nf_per_km=19.1, max_i_ka=1, nombre = 'L1', parallel=1)\n",
    "\n",
    "pp.create_load_from_cosphi(net, bus2, sn_mva=1200, cos_phi=0.9, mode='underexcited')\n",
    "\n",
    "pp.create_ext_grid(net, bus1, vm_pu=1.0, name=\"Barra Slack\")\n",
    "\n",
    "pp.runpp(net)\n"
   ]
  }
 ],
 "metadata": {
  "kernelspec": {
   "display_name": "Python 3",
   "language": "python",
   "name": "python3"
  },
  "language_info": {
   "codemirror_mode": {
    "name": "ipython",
    "version": 3
   },
   "file_extension": ".py",
   "mimetype": "text/x-python",
   "name": "python",
   "nbconvert_exporter": "python",
   "pygments_lexer": "ipython3",
   "version": "3.12.3"
  }
 },
 "nbformat": 4,
 "nbformat_minor": 2
}
