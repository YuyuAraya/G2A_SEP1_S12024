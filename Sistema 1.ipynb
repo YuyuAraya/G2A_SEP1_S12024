{
 "cells": [
  {
   "cell_type": "code",
   "execution_count": 1,
   "metadata": {},
   "outputs": [
    {
     "data": {
      "text/plain": [
       "1"
      ]
     },
     "execution_count": 1,
     "metadata": {},
     "output_type": "execute_result"
    }
   ],
   "source": [
    "import numpy as np\n",
    "import pandas as pd \n",
    "import networkx as nx\n",
    "import matplotlib.pyplot as plt\n",
    "import pandapower as pp \n",
    "import math\n",
    "\n",
    "\n",
    "import matplotlib.gridspec as gridscpec\n",
    "\n",
    "\n",
    "pd.set_option('display.float_format', lambda x:'{:.4f}'.format(x))\n",
    "\n",
    "plt.rcParams.update(plt.rcParamsDefault)\n",
    "plt.rcParams.update(\n",
    "    {\n",
    "        'font.size':10,\n",
    "        \"text.usetex\": False,\n",
    "        \"font.family\": \"serif\",\n",
    "        \"font.sans-serif\": ['Computer Modern'],\n",
    "    }\n",
    ")\n",
    "\n",
    "\n",
    "net = pp.create_empty_network()\n",
    "bus1 = pp.create_bus(net, vn_kv=110, name=\"Barra 1\")\n",
    "bus2 = pp.create_bus(net, vn_kv=220, name=\"Barra 2\")\n",
    "pp.create_load(net, bus2, p_mw=1080, q_mvar=523, name=\"Carga 1A\")\n",
    "pp.create_line(net, bus1, bus2, length_km=500, std_type=\"NAYY 4x150 SE\", name='L1')\n",
    "pp.create_line(net, bus1, bus2, length_km=500, std_type=\"NAYY 4x50 SE\", name='L2')\n"
   ]
  }
 ],
 "metadata": {
  "kernelspec": {
   "display_name": "Python 3",
   "language": "python",
   "name": "python3"
  },
  "language_info": {
   "codemirror_mode": {
    "name": "ipython",
    "version": 3
   },
   "file_extension": ".py",
   "mimetype": "text/x-python",
   "name": "python",
   "nbconvert_exporter": "python",
   "pygments_lexer": "ipython3",
   "version": "3.12.3"
  }
 },
 "nbformat": 4,
 "nbformat_minor": 2
}
